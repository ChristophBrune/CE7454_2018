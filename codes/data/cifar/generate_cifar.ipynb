{
 "cells": [
  {
   "cell_type": "markdown",
   "metadata": {},
   "source": [
    "# Download CIFAR"
   ]
  },
  {
   "cell_type": "code",
   "execution_count": 1,
   "metadata": {},
   "outputs": [],
   "source": [
    "import torch\n",
    "import torchvision\n",
    "import torchvision.transforms as transforms\n",
    "import numpy as np\n",
    "import matplotlib.pyplot as plt"
   ]
  },
  {
   "cell_type": "code",
   "execution_count": null,
   "metadata": {},
   "outputs": [
    {
     "name": "stdout",
     "output_type": "stream",
     "text": [
      "Downloading https://www.cs.toronto.edu/~kriz/cifar-10-python.tar.gz to ./temp/cifar-10-python.tar.gz\n"
     ]
    }
   ],
   "source": [
    "trainset = torchvision.datasets.CIFAR10(root='./temp', train=True,\n",
    "                                        download=True, transform=transforms.ToTensor())\n",
    "testset = torchvision.datasets.CIFAR10(root='./temp', train=False,\n",
    "                                       download=True, transform=transforms.ToTensor())\n",
    "print(len(trainset))\n",
    "print(len(testset))"
   ]
  },
  {
   "cell_type": "code",
   "execution_count": null,
   "metadata": {
    "scrolled": true
   },
   "outputs": [],
   "source": [
    "idx=2\n",
    "pic, label =trainset[idx]\n",
    "print(pic.size())\n",
    "print('min=',torch.min(pic), '  max=',torch.max(pic) )\n",
    "plt.imshow( np.transpose(  pic.numpy() , (1, 2, 0))  )\n",
    "plt.show()\n",
    "print(label)"
   ]
  },
  {
   "cell_type": "code",
   "execution_count": 4,
   "metadata": {
    "collapsed": true
   },
   "outputs": [],
   "source": [
    "train_data=torch.Tensor(50000,3,32,32)\n",
    "train_label=torch.LongTensor(50000)\n",
    "for idx , example in enumerate(trainset):\n",
    "    train_data[idx]=example[0]\n",
    "    train_label[idx]=example[1]\n",
    "torch.save(train_data,'train_data.pt')\n",
    "torch.save(train_label,'train_label.pt')"
   ]
  },
  {
   "cell_type": "code",
   "execution_count": 5,
   "metadata": {
    "collapsed": true
   },
   "outputs": [],
   "source": [
    "test_data=torch.Tensor(10000,3,32,32)\n",
    "test_label=torch.LongTensor(10000)\n",
    "for idx , example in enumerate(testset):\n",
    "    test_data[idx]=example[0]\n",
    "    test_label[idx]=example[1]\n",
    "torch.save(test_data,'test_data.pt')\n",
    "torch.save(test_label,'test_label.pt')"
   ]
  },
  {
   "cell_type": "code",
   "execution_count": null,
   "metadata": {
    "collapsed": true
   },
   "outputs": [],
   "source": []
  }
 ],
 "metadata": {
  "kernelspec": {
   "display_name": "Python 3",
   "language": "python",
   "name": "python3"
  },
  "language_info": {
   "codemirror_mode": {
    "name": "ipython",
    "version": 3
   },
   "file_extension": ".py",
   "mimetype": "text/x-python",
   "name": "python",
   "nbconvert_exporter": "python",
   "pygments_lexer": "ipython3",
   "version": "3.6.6"
  }
 },
 "nbformat": 4,
 "nbformat_minor": 2
}
